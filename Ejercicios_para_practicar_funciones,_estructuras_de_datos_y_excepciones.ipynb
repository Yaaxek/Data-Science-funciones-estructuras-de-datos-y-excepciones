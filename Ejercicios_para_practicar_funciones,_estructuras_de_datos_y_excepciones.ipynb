{
  "nbformat": 4,
  "nbformat_minor": 0,
  "metadata": {
    "colab": {
      "provenance": [],
      "authorship_tag": "ABX9TyOk+cl74oNS6tg8Sy3EitXI",
      "include_colab_link": true
    },
    "kernelspec": {
      "name": "python3",
      "display_name": "Python 3"
    },
    "language_info": {
      "name": "python"
    }
  },
  "cells": [
    {
      "cell_type": "markdown",
      "metadata": {
        "id": "view-in-github",
        "colab_type": "text"
      },
      "source": [
        "<a href=\"https://colab.research.google.com/github/Yaaxek/Data-Science-funciones-estructuras-de-datos-y-excepciones/blob/main/Ejercicios_para_practicar_funciones%2C_estructuras_de_datos_y_excepciones.ipynb\" target=\"_parent\"><img src=\"https://colab.research.google.com/assets/colab-badge.svg\" alt=\"Open In Colab\"/></a>"
      ]
    },
    {
      "cell_type": "code",
      "execution_count": null,
      "metadata": {
        "id": "AiK22nWP4Zz0"
      },
      "outputs": [],
      "source": []
    }
  ]
}